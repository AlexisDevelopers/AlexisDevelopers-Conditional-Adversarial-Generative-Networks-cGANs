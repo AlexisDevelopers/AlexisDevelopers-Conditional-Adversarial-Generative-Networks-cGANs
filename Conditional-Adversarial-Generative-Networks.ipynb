{
  "cells": [
    {
      "cell_type": "markdown",
      "metadata": {
        "id": "rMjS2FPzfCcv"
      },
      "source": [
        "# Conditioned Adversarial Generative Networks (cGANs)\n",
        "---\n",
        "\n",
        "We will create a *generative conditional network* from which we can obtain images for each of the classes in the dataset. Once we have trained it, we visualize the generation of 3 images of the FROG class (🐸) and 3 images of the HORSE class (🐎). **Given the complexity of the dataset and the low resolution of the images, it is normal to expect images where the generated object is not clearly identified.**\n",
        "\n",
        "<br>\n",
        "<img src='https://miro.medium.com/max/424/1*0hHJfc0V_Km_AgKkP892fw.png'>\n",
        "<br>"
      ]
    },
    {
      "cell_type": "code",
      "execution_count": 1,
      "metadata": {
        "colab": {
          "base_uri": "https://localhost:8080/"
        },
        "id": "h7s7x1KaVU4p",
        "outputId": "e765e913-0ac8-448f-cb44-9b9886139a3f"
      },
      "outputs": [
        {
          "output_type": "stream",
          "name": "stdout",
          "text": [
            "Downloading data from https://www.cs.toronto.edu/~kriz/cifar-10-python.tar.gz\n",
            "170498071/170498071 [==============================] - 2s 0us/step\n"
          ]
        }
      ],
      "source": [
        "import numpy as np\n",
        "import matplotlib.pyplot as plt\n",
        "\n",
        "import tensorflow as tf\n",
        "from tensorflow.keras.datasets.cifar10 import load_data\n",
        "from tensorflow.keras.utils import to_categorical\n",
        "from tensorflow.keras.preprocessing.image import ImageDataGenerator\n",
        "\n",
        "# We load the CIFAR10 dataset into a variable.\n",
        "(X_train, Y_train), (X_test, Y_test) = load_data()\n",
        "\n",
        "# We One-Hot encode the output.\n",
        "Y_train = to_categorical(Y_train)\n",
        "Y_test  = to_categorical(Y_test)\n",
        "\n",
        "#train_gen = ImageDataGenerator(rescale=1/255).flow(X_train, Y_train)\n",
        "train_gen = ImageDataGenerator(rescale=1/255).flow(X_train.reshape(-1, 32, 32, 3), Y_train)"
      ]
    },
    {
      "cell_type": "code",
      "execution_count": 2,
      "metadata": {
        "id": "WyEA7M5IWOCt"
      },
      "outputs": [],
      "source": [
        "# Name of the classes ordered by the corresponding index.\n",
        "class_names = [\"airplane\", \"automobile\", \"bird\", \"cat\", \"deer\", \"dog\", \"frog\", \"horse\", \"ship\", \"truck\"]"
      ]
    },
    {
      "cell_type": "code",
      "execution_count": 3,
      "metadata": {
        "colab": {
          "base_uri": "https://localhost:8080/",
          "height": 281
        },
        "id": "mUTbHcsxV07b",
        "outputId": "0816d6c8-c3be-444d-c750-ee14953168ea"
      },
      "outputs": [
        {
          "output_type": "display_data",
          "data": {
            "text/plain": [
              "<Figure size 432x288 with 1 Axes>"
            ],
            "image/png": "[encoded data removed]"
          },
          "metadata": {
            "needs_background": "light"
          }
        }
      ],
      "source": [
        "# We select a random index.\n",
        "idx = np.random.randint(0, 5000)\n",
        "\n",
        "# We display one of the images.\n",
        "plt.imshow(X_train[idx])\n",
        "plt.title(class_names[np.argmax(Y_train[idx])])\n",
        "plt.show()"
      ]
    },
    {
      "cell_type": "code",
      "execution_count": 4,
      "metadata": {
        "colab": {
          "base_uri": "https://localhost:8080/"
        },
        "id": "r64cIYAxiCvJ",
        "outputId": "1a61832c-48ef-4902-fd04-91b7b533d543"
      },
      "outputs": [
        {
          "output_type": "stream",
          "name": "stdout",
          "text": [
            "Model: \"discriminator\"\n",
            "_________________________________________________________________\n",
            " Layer (type)                Output Shape              Param #   \n",
            "=================================================================\n",
            " conv2d (Conv2D)             (None, 16, 16, 64)        13376     \n",
            "                                                                 \n",
            " batch_normalization (BatchN  (None, 16, 16, 64)       256       \n",
            " ormalization)                                                   \n",
            "                                                                 \n",
            " leaky_re_lu (LeakyReLU)     (None, 16, 16, 64)        0         \n",
            "                                                                 \n",
            " conv2d_1 (Conv2D)           (None, 13, 13, 128)       131200    \n",
            "                                                                 \n",
            " batch_normalization_1 (Batc  (None, 13, 13, 128)      512       \n",
            " hNormalization)                                                 \n",
            "                                                                 \n",
            " leaky_re_lu_1 (LeakyReLU)   (None, 13, 13, 128)       0         \n",
            "                                                                 \n",
            " conv2d_2 (Conv2D)           (None, 10, 10, 128)       262272    \n",
            "                                                                 \n",
            " batch_normalization_2 (Batc  (None, 10, 10, 128)      512       \n",
            " hNormalization)                                                 \n",
            "                                                                 \n",
            " leaky_re_lu_2 (LeakyReLU)   (None, 10, 10, 128)       0         \n",
            "                                                                 \n",
            " global_max_pooling2d (Globa  (None, 128)              0         \n",
            " lMaxPooling2D)                                                  \n",
            "                                                                 \n",
            " dense (Dense)               (None, 1)                 129       \n",
            "                                                                 \n",
            "=================================================================\n",
            "Total params: 408,257\n",
            "Trainable params: 407,617\n",
            "Non-trainable params: 640\n",
            "_________________________________________________________________\n"
          ]
        },
        {
          "output_type": "execute_result",
          "data": {
            "text/plain": [
              "<keras.engine.sequential.Sequential at 0x7ff9fe4bbc10>"
            ]
          },
          "metadata": {},
          "execution_count": 4
        }
      ],
      "source": [
        "from tensorflow.keras import Sequential\n",
        "from tensorflow.keras.layers import *\n",
        "\n",
        "latent_dim  = 128\n",
        "image_size  = 32\n",
        "num_classes = 10 \n",
        "\n",
        "def get_discriminator():\n",
        "  # Create the model discriminator.\n",
        "  discriminator = Sequential(name=\"discriminator\")\n",
        "\n",
        "  # 💡 >>> Now the discriminator input will increment the number\n",
        "   # >>> of feeds to add the One-hot vector\n",
        "  discriminator.add(Input(shape=(32, 32, 3 + num_classes)))\n",
        "  \n",
        "  discriminator.add(Conv2D(64, kernel_size=4, strides=2, padding=\"same\"))\n",
        "  discriminator.add(BatchNormalization())\n",
        "  discriminator.add(LeakyReLU(alpha=0.2))\n",
        "  \n",
        "  discriminator.add(Conv2D(128, kernel_size=4))\n",
        "  discriminator.add(BatchNormalization())\n",
        "  discriminator.add(LeakyReLU(alpha=0.2))\n",
        "\n",
        "  discriminator.add(Conv2D(128, kernel_size=4))\n",
        "  discriminator.add(BatchNormalization())\n",
        "  discriminator.add(LeakyReLU(alpha=0.2))\n",
        "\n",
        "  discriminator.add(GlobalMaxPooling2D())\n",
        "  discriminator.add(Dense(1, activation=\"sigmoid\"))\n",
        "\n",
        "  discriminator.summary()\n",
        "  return discriminator\n",
        "\n",
        "get_discriminator()"
      ]
    },
    {
      "cell_type": "code",
      "execution_count": 5,
      "metadata": {
        "colab": {
          "base_uri": "https://localhost:8080/"
        },
        "id": "WkobzNyqpgfa",
        "outputId": "04dae11a-c080-4218-8f22-460e380ebc8a"
      },
      "outputs": [
        {
          "output_type": "stream",
          "name": "stdout",
          "text": [
            "Model: \"generator\"\n",
            "_________________________________________________________________\n",
            " Layer (type)                Output Shape              Param #   \n",
            "=================================================================\n",
            " dense_1 (Dense)             (None, 1152)              160128    \n",
            "                                                                 \n",
            " reshape (Reshape)           (None, 3, 3, 128)         0         \n",
            "                                                                 \n",
            " conv2d_transpose (Conv2DTra  (None, 8, 8, 128)        262272    \n",
            " nspose)                                                         \n",
            "                                                                 \n",
            " batch_normalization_3 (Batc  (None, 8, 8, 128)        512       \n",
            " hNormalization)                                                 \n",
            "                                                                 \n",
            " leaky_re_lu_3 (LeakyReLU)   (None, 8, 8, 128)         0         \n",
            "                                                                 \n",
            " conv2d_transpose_1 (Conv2DT  (None, 18, 18, 256)      524544    \n",
            " ranspose)                                                       \n",
            "                                                                 \n",
            " batch_normalization_4 (Batc  (None, 18, 18, 256)      1024      \n",
            " hNormalization)                                                 \n",
            "                                                                 \n",
            " leaky_re_lu_4 (LeakyReLU)   (None, 18, 18, 256)       0         \n",
            "                                                                 \n",
            " conv2d_transpose_2 (Conv2DT  (None, 36, 36, 512)      2097664   \n",
            " ranspose)                                                       \n",
            "                                                                 \n",
            " batch_normalization_5 (Batc  (None, 36, 36, 512)      2048      \n",
            " hNormalization)                                                 \n",
            "                                                                 \n",
            " leaky_re_lu_5 (LeakyReLU)   (None, 36, 36, 512)       0         \n",
            "                                                                 \n",
            " conv2d_3 (Conv2D)           (None, 32, 32, 3)         38403     \n",
            "                                                                 \n",
            "=================================================================\n",
            "Total params: 3,086,595\n",
            "Trainable params: 3,084,803\n",
            "Non-trainable params: 1,792\n",
            "_________________________________________________________________\n"
          ]
        },
        {
          "output_type": "execute_result",
          "data": {
            "text/plain": [
              "<keras.engine.sequential.Sequential at 0x7ff9c0010d00>"
            ]
          },
          "metadata": {},
          "execution_count": 5
        }
      ],
      "source": [
        "def get_generator(latent_dim=128):\n",
        "\n",
        "  generator = Sequential(name=\"generator\")\n",
        "  \n",
        "  # 💡 >>> Now the input receives the latent vector and the\n",
        "  # concatenated One-hot vector.\n",
        "  generator.add(Input(shape=(latent_dim + num_classes)))\n",
        "  \n",
        "  generator.add(Dense(3 * 3 * latent_dim))\n",
        "  generator.add(Reshape((3, 3, latent_dim)))\n",
        "\n",
        "  generator.add(Conv2DTranspose(128, kernel_size=4, strides=2))\n",
        "  generator.add(BatchNormalization())\n",
        "  generator.add(LeakyReLU(alpha=0.2))\n",
        "\n",
        "  generator.add(Conv2DTranspose(256, kernel_size=4, strides=2))\n",
        "  generator.add(BatchNormalization())\n",
        "  generator.add(LeakyReLU(alpha=0.2))\n",
        "  \n",
        "  generator.add(Conv2DTranspose(512, kernel_size=4, strides=2, padding=\"same\"))\n",
        "  generator.add(BatchNormalization())\n",
        "  generator.add(LeakyReLU(alpha=0.2))\n",
        "  \n",
        "  generator.add(Conv2D(3, kernel_size=5, strides=1, padding=\"valid\", activation=\"sigmoid\"))\n",
        "\n",
        "  generator.summary()\n",
        "  return generator\n",
        "\n",
        "get_generator()"
      ]
    },
    {
      "cell_type": "code",
      "execution_count": 6,
      "metadata": {
        "id": "9CWAYdvsrdca"
      },
      "outputs": [],
      "source": [
        "class GAN(tf.keras.Model):\n",
        "\n",
        "  def __init__(self, discriminator, generator, latent_dim):\n",
        "      super(GAN, self).__init__()\n",
        "      # We save the discriminator and the generator.\n",
        "      self.discriminator = discriminator\n",
        "      self.generator     = generator\n",
        "      self.latent_dim    = latent_dim\n",
        "\n",
        "  def compile(self, d_optimizer, g_optimizer, loss_fn):\n",
        "    super(GAN, self).compile(d_optimizer, g_optimizer, loss_fn)\n",
        "    self.d_optimizer = d_optimizer\n",
        "    self.g_optimizer = g_optimizer\n",
        "    self.loss_fn = loss_fn\n",
        "  \n",
        "  def train_step(self, data):\n",
        "\n",
        "    # 💡 >>> Now the data is the input and the labels.\n",
        "    real_images, one_hot_labels = data\n",
        "\n",
        "    # 💡 >>> We format the One-hot vector to image size.\n",
        "    image_one_hot_labels = one_hot_labels[:, :, None, None]\n",
        "    image_one_hot_labels = tf.repeat(image_one_hot_labels, repeats=[image_size * image_size])\n",
        "    image_one_hot_labels = tf.reshape(image_one_hot_labels, (-1, image_size, image_size, num_classes))\n",
        "\n",
        "    # ----------- DETECTOR TRAINING ------------- #\n",
        "\n",
        "    # Lot Size\n",
        "    batch_size = tf.shape(real_images)[0]\n",
        "\n",
        "    # We generate random vectors as input to the generating network.\n",
        "    random_latent_vectors = tf.random.normal(shape=(batch_size, self.latent_dim))\n",
        "\n",
        "     # 💡 >>> We add the class info to the input vectors of the generator.\n",
        "    random_latent_vectors = tf.concat([random_latent_vectors, one_hot_labels], axis=1)\n",
        "\n",
        "    # We use the vectors to generate random images. (We decode)\n",
        "    fake_images = self.generator(random_latent_vectors)\n",
        "\n",
        "    # 💡 >>> We add the class info to the decoder input images.\n",
        "    fake_image_and_labels = tf.concat([fake_images, image_one_hot_labels], -1)\n",
        "    real_image_and_labels = tf.concat([real_images, image_one_hot_labels], -1)\n",
        "\n",
        "    # We concatenate them to the set of real images.\n",
        "    combined_images = tf.concat([fake_image_and_labels, real_image_and_labels], axis=0)\n",
        "\n",
        "    # We generate the output for each image (Fake: 1 / Real: 0)\n",
        "    labels = tf.concat([tf.ones((batch_size, 1)), tf.zeros((batch_size, 1))], axis=0)\n",
        "\n",
        "    # Add random noise to the labels - important trick!\n",
        "    labels += 0.05 * tf.random.uniform(tf.shape(labels))\n",
        "\n",
        "    with tf.GradientTape() as tape:\n",
        "\n",
        "      # Predictions made by the discriminator.\n",
        "      predictions = self.discriminator(combined_images)\n",
        "\n",
        "      # We evaluate the results of the discriminator with the cost function.\n",
        "      d_loss = self.loss_fn(labels, predictions)\n",
        "\n",
        "    # Calculate the gradient with the discriminator error.\n",
        "    grads = tape.gradient(d_loss, self.discriminator.trainable_weights)\n",
        "\n",
        "    # Update the parameters with the gradients.\n",
        "    self.d_optimizer.apply_gradients(\n",
        "          zip(grads, self.discriminator.trainable_weights)\n",
        "    )\n",
        "\n",
        "    # ----------- GENERATOR TRAINING ------------- #\n",
        "\n",
        "    # We create new vectors to generate random images. (We decode)\n",
        "    random_latent_vectors = tf.random.normal(shape=(batch_size, self.latent_dim))\n",
        "\n",
        "    # We create the labels with which to supervise the training of the generator.\n",
        "    misleading_labels = tf.zeros((batch_size, 1))\n",
        "\n",
        "    # We train the generator WITHOUT updating the detector!\n",
        "    with tf.GradientTape() as tape:\n",
        "\n",
        "      # 💡 >>> We add the class info to the input vectors of the generator.\n",
        "      random_latent_vectors = tf.concat([random_latent_vectors, one_hot_labels], axis=1)\n",
        "\n",
        "      # 💡 >>> We generate and add the class info.\n",
        "      fake_images = self.generator(random_latent_vectors)\n",
        "      fake_image_and_labels = tf.concat([fake_images, image_one_hot_labels], -1)\n",
        "\n",
        "      # We obtain new predictions by passing to the discriminator what is generated.\n",
        "      predictions = self.discriminator(fake_image_and_labels)\n",
        "\n",
        "      # We calculate the error of the generator in its task of confusing the discriminator.\n",
        "      g_loss = self.loss_fn(misleading_labels, predictions)\n",
        "\n",
        "    # Calculate the gradient of the generator.\n",
        "    grads = tape.gradient(g_loss, self.generator.trainable_weights)\n",
        "\n",
        "    # Update the parameters with the gradients.\n",
        "    self.g_optimizer.apply_gradients(zip(grads, self.generator.trainable_weights))\n",
        "\n",
        "    return {}"
      ]
    },
    {
      "cell_type": "code",
      "execution_count": 7,
      "metadata": {
        "id": "EoJiJyFN4bB_"
      },
      "outputs": [],
      "source": [
        "from tensorflow.keras.callbacks import Callback\n",
        "\n",
        "# 💡 >>> We create a personalized callback to visualize the evolution\n",
        "# of the generator after each epoch.\n",
        "class GANMonitor(Callback):\n",
        "\n",
        "    def on_epoch_end(self, epoch, logs=None):\n",
        "\n",
        "        for cls in [6, 7]:\n",
        "          random_latent_vectors = tf.random.normal(shape=(3, self.model.latent_dim))\n",
        "          # We always generate vectors of the number 3.\n",
        "          one_hot_vectors = tf.reshape(tf.repeat(to_categorical(cls, num_classes=10)[None,:], repeats=3, axis=0), (3, num_classes))\n",
        "          generated_image = self.model.generator(tf.concat([random_latent_vectors, one_hot_vectors], axis=1))\n",
        "\n",
        "\n",
        "          fig, axs = plt.subplots(1, 3)\n",
        "\n",
        "          for i in range(3):\n",
        "            if generated_image.shape[3] > 1:\n",
        "              fig.axes[i].imshow(generated_image[i,:,:,:])\n",
        "              fig.axes[i].axis(\"off\")\n",
        "            else:\n",
        "              fig.axes[i].matshow(generated_image[i,:,:,0])\n",
        "              fig.axes[i].axis(\"off\")\n",
        "\n",
        "          plt.title(\"frog\" if cls == 6 else \"horse\")\n",
        "          plt.show()"
      ]
    },
    {
      "cell_type": "code",
      "execution_count": 8,
      "metadata": {
        "colab": {
          "base_uri": "https://localhost:8080/"
        },
        "id": "1fwI7CQW4fQd",
        "outputId": "918ac1ee-5978-46dd-fbce-3553fba01e43"
      },
      "outputs": [
        {
          "output_type": "stream",
          "name": "stdout",
          "text": [
            "Model: \"discriminator\"\n",
            "_________________________________________________________________\n",
            " Layer (type)                Output Shape              Param #   \n",
            "=================================================================\n",
            " conv2d_4 (Conv2D)           (None, 16, 16, 64)        13376     \n",
            "                                                                 \n",
            " batch_normalization_6 (Batc  (None, 16, 16, 64)       256       \n",
            " hNormalization)                                                 \n",
            "                                                                 \n",
            " leaky_re_lu_6 (LeakyReLU)   (None, 16, 16, 64)        0         \n",
            "                                                                 \n",
            " conv2d_5 (Conv2D)           (None, 13, 13, 128)       131200    \n",
            "                                                                 \n",
            " batch_normalization_7 (Batc  (None, 13, 13, 128)      512       \n",
            " hNormalization)                                                 \n",
            "                                                                 \n",
            " leaky_re_lu_7 (LeakyReLU)   (None, 13, 13, 128)       0         \n",
            "                                                                 \n",
            " conv2d_6 (Conv2D)           (None, 10, 10, 128)       262272    \n",
            "                                                                 \n",
            " batch_normalization_8 (Batc  (None, 10, 10, 128)      512       \n",
            " hNormalization)                                                 \n",
            "                                                                 \n",
            " leaky_re_lu_8 (LeakyReLU)   (None, 10, 10, 128)       0         \n",
            "                                                                 \n",
            " global_max_pooling2d_1 (Glo  (None, 128)              0         \n",
            " balMaxPooling2D)                                                \n",
            "                                                                 \n",
            " dense_2 (Dense)             (None, 1)                 129       \n",
            "                                                                 \n",
            "=================================================================\n",
            "Total params: 408,257\n",
            "Trainable params: 407,617\n",
            "Non-trainable params: 640\n",
            "_________________________________________________________________\n",
            "Model: \"generator\"\n",
            "_________________________________________________________________\n",
            " Layer (type)                Output Shape              Param #   \n",
            "=================================================================\n",
            " dense_3 (Dense)             (None, 1152)              160128    \n",
            "                                                                 \n",
            " reshape_1 (Reshape)         (None, 3, 3, 128)         0         \n",
            "                                                                 \n",
            " conv2d_transpose_3 (Conv2DT  (None, 8, 8, 128)        262272    \n",
            " ranspose)                                                       \n",
            "                                                                 \n",
            " batch_normalization_9 (Batc  (None, 8, 8, 128)        512       \n",
            " hNormalization)                                                 \n",
            "                                                                 \n",
            " leaky_re_lu_9 (LeakyReLU)   (None, 8, 8, 128)         0         \n",
            "                                                                 \n",
            " conv2d_transpose_4 (Conv2DT  (None, 18, 18, 256)      524544    \n",
            " ranspose)                                                       \n",
            "                                                                 \n",
            " batch_normalization_10 (Bat  (None, 18, 18, 256)      1024      \n",
            " chNormalization)                                                \n",
            "                                                                 \n",
            " leaky_re_lu_10 (LeakyReLU)  (None, 18, 18, 256)       0         \n",
            "                                                                 \n",
            " conv2d_transpose_5 (Conv2DT  (None, 36, 36, 512)      2097664   \n",
            " ranspose)                                                       \n",
            "                                                                 \n",
            " batch_normalization_11 (Bat  (None, 36, 36, 512)      2048      \n",
            " chNormalization)                                                \n",
            "                                                                 \n",
            " leaky_re_lu_11 (LeakyReLU)  (None, 36, 36, 512)       0         \n",
            "                                                                 \n",
            " conv2d_7 (Conv2D)           (None, 32, 32, 3)         38403     \n",
            "                                                                 \n",
            "=================================================================\n",
            "Total params: 3,086,595\n",
            "Trainable params: 3,084,803\n",
            "Non-trainable params: 1,792\n",
            "_________________________________________________________________\n"
          ]
        }
      ],
      "source": [
        "from tensorflow.keras.optimizers import *\n",
        "from tensorflow.keras.losses import *\n",
        "\n",
        "# We create a GAN with our class.\n",
        "gan = GAN(discriminator=get_discriminator(), generator=get_generator(), latent_dim=latent_dim)\n",
        "\n",
        "# We configure the optimizers of each part...\n",
        "gan.compile(d_optimizer=Adam(learning_rate=0.0001),\n",
        "            g_optimizer=Adam(learning_rate=0.0001),\n",
        "            loss_fn=BinaryCrossentropy())\n",
        "\n",
        "# ...and we give it to train.\n",
        "#gan.fit(train_gen, epochs=1000, callbacks=[GANMonitor()])"
      ]
    },
    {
      "cell_type": "code",
      "execution_count": null,
      "metadata": {
        "colab": {
          "base_uri": "https://localhost:8080/"
        },
        "id": "b1dkotSN4fLh",
        "outputId": "ab00e231-fa78-4143-caba-3c5ce9a94d6e"
      },
      "outputs": [
        {
          "output_type": "stream",
          "name": "stdout",
          "text": [
            "Epoch 1/1000\n"
          ]
        }
      ],
      "source": [
        "gan.fit(train_gen, epochs=1000, callbacks=[GANMonitor()], steps_per_epoch=100)"
      ]
    }
  ],
  "metadata": {
    "accelerator": "GPU",
    "colab": {
      "provenance": []
    },
    "kernelspec": {
      "display_name": "Python 3",
      "name": "python3"
    },
    "language_info": {
      "name": "python"
    }
  },
  "nbformat": 4,
  "nbformat_minor": 0
}